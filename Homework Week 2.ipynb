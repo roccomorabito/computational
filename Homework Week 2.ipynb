{
 "cells": [
  {
   "cell_type": "markdown",
   "metadata": {},
   "source": [
    "**Homework Week 2**\n",
    "\n",
    "*Computational Photography*\n",
    "\n",
    "This assignment is mostly about practicing manipulating numbers and strings in python. It ends with backing an algorithm out of code.\n"
   ]
  },
  {
   "cell_type": "markdown",
   "metadata": {},
   "source": [
    "Write code that when you run the cell generates a tic-tac-toe board\n",
    "Expected output:\n",
    "\n",
    "```\n",
    "  |  |  \n",
    "--------\n",
    "  |  |  \n",
    "--------\n",
    "  |  |  \n",
    "  \n",
    "```\n",
    "\n",
    "First just use print statements"
   ]
  },
  {
   "cell_type": "code",
   "execution_count": 1,
   "metadata": {
    "collapsed": false
   },
   "outputs": [
    {
     "name": "stdout",
     "output_type": "stream",
     "text": [
      "  |  |  \n",
      "--------\n",
      "  |  |  \n",
      "--------\n",
      "  |  |  \n"
     ]
    }
   ],
   "source": [
    "print('  |  |  ')\n",
    "print('--------')\n",
    "print('  |  |  ')\n",
    "print('--------')\n",
    "print('  |  |  ')\n",
    "#your code"
   ]
  },
  {
   "cell_type": "markdown",
   "metadata": {},
   "source": [
    "Now do it using variables"
   ]
  },
  {
   "cell_type": "code",
   "execution_count": 8,
   "metadata": {
    "collapsed": false
   },
   "outputs": [
    {
     "name": "stdout",
     "output_type": "stream",
     "text": [
      "rocco cassie\n"
     ]
    }
   ],
   "source": [
    "a = \"rocco\"\n",
    "b = \"cassie\"\n",
    "print (a, b)"
   ]
  },
  {
   "cell_type": "markdown",
   "metadata": {},
   "source": [
    "Starting with x and y as defined, write code to print the larger number"
   ]
  },
  {
   "cell_type": "code",
   "execution_count": 6,
   "metadata": {
    "collapsed": false
   },
   "outputs": [
    {
     "data": {
      "text/plain": [
       "54"
      ]
     },
     "execution_count": 6,
     "metadata": {},
     "output_type": "execute_result"
    }
   ],
   "source": [
    "x = 54\n",
    "y = 23\n",
    "\n",
    "max(x,y)\n"
   ]
  },
  {
   "cell_type": "markdown",
   "metadata": {},
   "source": [
    "Starting with x, y, and z as defined, write code to print the largest number"
   ]
  },
  {
   "cell_type": "code",
   "execution_count": 5,
   "metadata": {
    "collapsed": false
   },
   "outputs": [
    {
     "data": {
      "text/plain": [
       "23"
      ]
     },
     "execution_count": 5,
     "metadata": {},
     "output_type": "execute_result"
    }
   ],
   "source": [
    "x = -54\n",
    "y = 23\n",
    "z = 4\n",
    "\n",
    "max(x, y, z)\n",
    "\n"
   ]
  },
  {
   "cell_type": "raw",
   "metadata": {},
   "source": [
    "Write a vowel recognizer"
   ]
  },
  {
   "cell_type": "code",
   "execution_count": 9,
   "metadata": {
    "collapsed": false
   },
   "outputs": [
    {
     "name": "stdout",
     "output_type": "stream",
     "text": [
      "Enter a character a\n",
      "vowel: \n",
      "Thank you\n"
     ]
    }
   ],
   "source": [
    "char_in = input(\"Enter a character \")\n",
    "if char_in in (\"a\", \"e\", \"i\", \"o\", \"u\"):\n",
    "    print (\"Thank you\")\n",
    "elif char_in in \"y\":\n",
    "    print (\"Sometimes.\")\n",
    "else:\n",
    "    print (\"Try Again.\")\n"
   ]
  },
  {
   "cell_type": "code",
   "execution_count": null,
   "metadata": {
    "collapsed": true
   },
   "outputs": [],
   "source": []
  },
  {
   "cell_type": "markdown",
   "metadata": {},
   "source": [
    "Turn the following code into English\n",
    "It's a game that chooses a number between 1-10 and completes once you answer it correctly."
   ]
  },
  {
   "cell_type": "code",
   "execution_count": null,
   "metadata": {
    "collapsed": false
   },
   "outputs": [],
   "source": [
    "import random\n",
    "a = random.choice(range(1,11))\n",
    "b = 0\n",
    "while (a != b):\n",
    "    b = int(input(\"What? \"))\n",
    "    if abs(a-b) > 4:\n",
    "        print (\"Pfft\")\n",
    "    elif abs(a-b) > 2:\n",
    "        print (\"Meh\")\n",
    "    elif abs(a-b)>0:\n",
    "        print (\"Hmmmm\")\n",
    "    else:\n",
    "        print (\"OK\")\n"
   ]
  },
  {
   "cell_type": "markdown",
   "metadata": {},
   "source": [
    "Now modify it into readable code. Be sure to make variables for all the numbers"
   ]
  },
  {
   "cell_type": "code",
   "execution_count": null,
   "metadata": {
    "collapsed": false
   },
   "outputs": [],
   "source": [
    "print (\"Hello Dale, I want to play a game. For years you have burned those around you with your lies, cons, and deceits. Now you will have a chance to redeem yourself. Continue to enter numbers between the value 1-10. If you guess the right answer you will live.\")\n",
    "import random\n",
    "a = random.choice(range(1,11))\n",
    "b = 0\n",
    "while (a != b):\n",
    "    b = int(input(\"Try Again.\"))\n",
    "    if abs(a-b) > 4:\n",
    "        print (\"Close, but not close enough.\")\n",
    "    elif abs(a-b) > 2:\n",
    "        print (\"You're getting there.\")\n",
    "    elif abs(a-b)>0:\n",
    "        print (\"Maybe you'll live after all.\")\n",
    "    else:\n",
    "        print (\"Congradulations, Dale. You get to live.\")"
   ]
  },
  {
   "cell_type": "markdown",
   "metadata": {},
   "source": [
    "Write an algorithm to print the lyrics to \"99 Bottles of Beer on the Wall\"\n",
    "99 bottles of beer on the wall, 99 bottles of beer.\n",
    "Take one down, pass it around, 98 bottles of beer on the wall.\n",
    "98 bottles of beer on the wall, 98 bottles of beer.\n",
    "Take one down, pass it around, 97 bottles of beer on the wall.\n",
    "...\n",
    "no more bottles of beer on the wall.\n"
   ]
  },
  {
   "cell_type": "code",
   "execution_count": 4,
   "metadata": {
    "collapsed": false
   },
   "outputs": [
    {
     "name": "stdout",
     "output_type": "stream",
     "text": [
      "99  Bottles of beer on the wall, \n",
      "98  Bottles of beer on the wall, \n",
      "97  Bottles of beer on the wall, \n",
      "96  Bottles of beer on the wall, \n",
      "95  Bottles of beer on the wall, \n",
      "94  Bottles of beer on the wall, \n",
      "93  Bottles of beer on the wall, \n",
      "92  Bottles of beer on the wall, \n",
      "91  Bottles of beer on the wall, \n",
      "90  Bottles of beer on the wall, \n",
      "89  Bottles of beer on the wall, \n",
      "88  Bottles of beer on the wall, \n",
      "87  Bottles of beer on the wall, \n",
      "86  Bottles of beer on the wall, \n",
      "85  Bottles of beer on the wall, \n",
      "84  Bottles of beer on the wall, \n",
      "83  Bottles of beer on the wall, \n",
      "82  Bottles of beer on the wall, \n",
      "81  Bottles of beer on the wall, \n",
      "80  Bottles of beer on the wall, \n",
      "79  Bottles of beer on the wall, \n",
      "78  Bottles of beer on the wall, \n",
      "77  Bottles of beer on the wall, \n",
      "76  Bottles of beer on the wall, \n",
      "75  Bottles of beer on the wall, \n",
      "74  Bottles of beer on the wall, \n",
      "73  Bottles of beer on the wall, \n",
      "72  Bottles of beer on the wall, \n",
      "71  Bottles of beer on the wall, \n",
      "70  Bottles of beer on the wall, \n",
      "69  Bottles of beer on the wall, \n",
      "68  Bottles of beer on the wall, \n",
      "67  Bottles of beer on the wall, \n",
      "66  Bottles of beer on the wall, \n",
      "65  Bottles of beer on the wall, \n",
      "64  Bottles of beer on the wall, \n",
      "63  Bottles of beer on the wall, \n",
      "62  Bottles of beer on the wall, \n",
      "61  Bottles of beer on the wall, \n",
      "60  Bottles of beer on the wall, \n",
      "59  Bottles of beer on the wall, \n",
      "58  Bottles of beer on the wall, \n",
      "57  Bottles of beer on the wall, \n",
      "56  Bottles of beer on the wall, \n",
      "55  Bottles of beer on the wall, \n",
      "54  Bottles of beer on the wall, \n",
      "53  Bottles of beer on the wall, \n",
      "52  Bottles of beer on the wall, \n",
      "51  Bottles of beer on the wall, \n",
      "50  Bottles of beer on the wall, \n",
      "49  Bottles of beer on the wall, \n",
      "48  Bottles of beer on the wall, \n",
      "47  Bottles of beer on the wall, \n",
      "46  Bottles of beer on the wall, \n",
      "45  Bottles of beer on the wall, \n",
      "44  Bottles of beer on the wall, \n",
      "43  Bottles of beer on the wall, \n",
      "42  Bottles of beer on the wall, \n",
      "41  Bottles of beer on the wall, \n",
      "40  Bottles of beer on the wall, \n",
      "39  Bottles of beer on the wall, \n",
      "38  Bottles of beer on the wall, \n",
      "37  Bottles of beer on the wall, \n",
      "36  Bottles of beer on the wall, \n",
      "35  Bottles of beer on the wall, \n",
      "34  Bottles of beer on the wall, \n",
      "33  Bottles of beer on the wall, \n",
      "32  Bottles of beer on the wall, \n",
      "31  Bottles of beer on the wall, \n",
      "30  Bottles of beer on the wall, \n",
      "29  Bottles of beer on the wall, \n",
      "28  Bottles of beer on the wall, \n",
      "27  Bottles of beer on the wall, \n",
      "26  Bottles of beer on the wall, \n",
      "25  Bottles of beer on the wall, \n",
      "24  Bottles of beer on the wall, \n",
      "23  Bottles of beer on the wall, \n",
      "22  Bottles of beer on the wall, \n",
      "21  Bottles of beer on the wall, \n",
      "20  Bottles of beer on the wall, \n",
      "19  Bottles of beer on the wall, \n",
      "18  Bottles of beer on the wall, \n",
      "17  Bottles of beer on the wall, \n",
      "16  Bottles of beer on the wall, \n",
      "15  Bottles of beer on the wall, \n",
      "14  Bottles of beer on the wall, \n",
      "13  Bottles of beer on the wall, \n",
      "12  Bottles of beer on the wall, \n",
      "11  Bottles of beer on the wall, \n",
      "10  Bottles of beer on the wall, \n",
      "9  Bottles of beer on the wall, \n",
      "8  Bottles of beer on the wall, \n",
      "7  Bottles of beer on the wall, \n",
      "6  Bottles of beer on the wall, \n",
      "5  Bottles of beer on the wall, \n",
      "4  Bottles of beer on the wall, \n",
      "3  Bottles of beer on the wall, \n",
      "2  Bottles of beer on the wall, \n",
      "1  Bottles of beer on the wall, \n",
      "0  Bottles of beer on the wall, \n",
      "There are no more bottles of beer on the wall. Buy some more beer. This is why we have BYOB parties.\n"
     ]
    }
   ],
   "source": [
    "bottles_of_beer = 99\n",
    "while bottles_of_beer >= 0:\n",
    "    print (bottles_of_beer, \" Bottles of beer on the wall, \")\n",
    "    bottles_of_beer = bottles_of_beer - 1\n",
    "print (\"There are no more bottles of beer on the wall. Buy some more beer. This is why we have BYOB parties.\")"
   ]
  },
  {
   "cell_type": "markdown",
   "metadata": {},
   "source": [
    "For the brave, implement your algorithm in Python"
   ]
  },
  {
   "cell_type": "code",
   "execution_count": 5,
   "metadata": {
    "collapsed": false
   },
   "outputs": [
    {
     "name": "stdout",
     "output_type": "stream",
     "text": [
      "$  1 in my bank account, \n",
      "$  3.5 in my bank account, \n",
      "$  6.0 in my bank account, \n",
      "$  8.5 in my bank account, \n",
      "$  11.0 in my bank account, \n",
      "$  13.5 in my bank account, \n",
      "$  16.0 in my bank account, \n",
      "$  18.5 in my bank account, \n",
      "$  21.0 in my bank account, \n",
      "$  23.5 in my bank account, \n",
      "$  26.0 in my bank account, \n",
      "$  28.5 in my bank account, \n",
      "$  31.0 in my bank account, \n",
      "$  33.5 in my bank account, \n",
      "$  36.0 in my bank account, \n",
      "$  38.5 in my bank account, \n",
      "$  41.0 in my bank account, \n",
      "$  43.5 in my bank account, \n",
      "$  46.0 in my bank account, \n",
      "$  48.5 in my bank account, \n",
      "$  51.0 in my bank account, \n",
      "$  53.5 in my bank account, \n",
      "$  56.0 in my bank account, \n",
      "$  58.5 in my bank account, \n",
      "$  61.0 in my bank account, \n",
      "$  63.5 in my bank account, \n",
      "$  66.0 in my bank account, \n",
      "$  68.5 in my bank account, \n",
      "$  71.0 in my bank account, \n",
      "$  73.5 in my bank account, \n",
      "$  76.0 in my bank account, \n",
      "$  78.5 in my bank account, \n",
      "$  81.0 in my bank account, \n",
      "$  83.5 in my bank account, \n",
      "$  86.0 in my bank account, \n",
      "$  88.5 in my bank account, \n",
      "$  91.0 in my bank account, \n",
      "$  93.5 in my bank account, \n",
      "$  96.0 in my bank account, \n",
      "$  98.5 in my bank account, \n",
      "I got too much money to talk to you anymore, peace out.\n"
     ]
    }
   ],
   "source": [
    "dollar_bills = 1\n",
    "while dollar_bills <= 100:\n",
    "    print ('$ ', dollar_bills, \"in my bank account, \")\n",
    "    dollar_bills = dollar_bills + 2.50\n",
    "print (\"I got too much money to talk to you anymore, peace out.\")"
   ]
  },
  {
   "cell_type": "code",
   "execution_count": null,
   "metadata": {
    "collapsed": true
   },
   "outputs": [],
   "source": []
  }
 ],
 "metadata": {
  "kernelspec": {
   "display_name": "Python 3",
   "language": "python",
   "name": "python3"
  },
  "language_info": {
   "codemirror_mode": {
    "name": "ipython",
    "version": 3
   },
   "file_extension": ".py",
   "mimetype": "text/x-python",
   "name": "python",
   "nbconvert_exporter": "python",
   "pygments_lexer": "ipython3",
   "version": "3.5.1"
  }
 },
 "nbformat": 4,
 "nbformat_minor": 0
}
